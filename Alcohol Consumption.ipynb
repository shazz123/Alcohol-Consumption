{
 "cells": [
  {
   "cell_type": "code",
   "execution_count": 1,
   "id": "1ab90175",
   "metadata": {},
   "outputs": [],
   "source": [
    "import numpy as np\n",
    "import pandas as pd"
   ]
  },
  {
   "cell_type": "code",
   "execution_count": 2,
   "id": "ae59ba78",
   "metadata": {},
   "outputs": [
    {
     "name": "stdout",
     "output_type": "stream",
     "text": [
      "C:\\Users\\shahz\\Downloads\\alcohol consumption\n"
     ]
    }
   ],
   "source": [
    "cd C:\\Users\\shahz\\Downloads\\alcohol consumption"
   ]
  },
  {
   "cell_type": "code",
   "execution_count": 3,
   "id": "8ca6debd",
   "metadata": {},
   "outputs": [
    {
     "data": {
      "text/html": [
       "<div>\n",
       "<style scoped>\n",
       "    .dataframe tbody tr th:only-of-type {\n",
       "        vertical-align: middle;\n",
       "    }\n",
       "\n",
       "    .dataframe tbody tr th {\n",
       "        vertical-align: top;\n",
       "    }\n",
       "\n",
       "    .dataframe thead th {\n",
       "        text-align: right;\n",
       "    }\n",
       "</style>\n",
       "<table border=\"1\" class=\"dataframe\">\n",
       "  <thead>\n",
       "    <tr style=\"text-align: right;\">\n",
       "      <th></th>\n",
       "      <th>country</th>\n",
       "      <th>beer_servings</th>\n",
       "      <th>spirit_servings</th>\n",
       "      <th>wine_servings</th>\n",
       "      <th>total_litres_of_pure_alcohol</th>\n",
       "      <th>continent</th>\n",
       "    </tr>\n",
       "  </thead>\n",
       "  <tbody>\n",
       "    <tr>\n",
       "      <th>0</th>\n",
       "      <td>Afghanistan</td>\n",
       "      <td>0</td>\n",
       "      <td>0</td>\n",
       "      <td>0</td>\n",
       "      <td>0.0</td>\n",
       "      <td>AS</td>\n",
       "    </tr>\n",
       "    <tr>\n",
       "      <th>1</th>\n",
       "      <td>Albania</td>\n",
       "      <td>89</td>\n",
       "      <td>132</td>\n",
       "      <td>54</td>\n",
       "      <td>4.9</td>\n",
       "      <td>EU</td>\n",
       "    </tr>\n",
       "    <tr>\n",
       "      <th>2</th>\n",
       "      <td>Algeria</td>\n",
       "      <td>25</td>\n",
       "      <td>0</td>\n",
       "      <td>14</td>\n",
       "      <td>0.7</td>\n",
       "      <td>AF</td>\n",
       "    </tr>\n",
       "    <tr>\n",
       "      <th>3</th>\n",
       "      <td>Andorra</td>\n",
       "      <td>245</td>\n",
       "      <td>138</td>\n",
       "      <td>312</td>\n",
       "      <td>12.4</td>\n",
       "      <td>EU</td>\n",
       "    </tr>\n",
       "    <tr>\n",
       "      <th>4</th>\n",
       "      <td>Angola</td>\n",
       "      <td>217</td>\n",
       "      <td>57</td>\n",
       "      <td>45</td>\n",
       "      <td>5.9</td>\n",
       "      <td>AF</td>\n",
       "    </tr>\n",
       "  </tbody>\n",
       "</table>\n",
       "</div>"
      ],
      "text/plain": [
       "       country  beer_servings  spirit_servings  wine_servings  \\\n",
       "0  Afghanistan              0                0              0   \n",
       "1      Albania             89              132             54   \n",
       "2      Algeria             25                0             14   \n",
       "3      Andorra            245              138            312   \n",
       "4       Angola            217               57             45   \n",
       "\n",
       "   total_litres_of_pure_alcohol continent  \n",
       "0                           0.0        AS  \n",
       "1                           4.9        EU  \n",
       "2                           0.7        AF  \n",
       "3                          12.4        EU  \n",
       "4                           5.9        AF  "
      ]
     },
     "execution_count": 3,
     "metadata": {},
     "output_type": "execute_result"
    }
   ],
   "source": [
    "data = pd.read_csv('alcohol_cons.csv')\n",
    "data.head()"
   ]
  },
  {
   "cell_type": "code",
   "execution_count": 4,
   "id": "c3a5fef6",
   "metadata": {},
   "outputs": [
    {
     "name": "stdout",
     "output_type": "stream",
     "text": [
      "<class 'pandas.core.frame.DataFrame'>\n",
      "RangeIndex: 193 entries, 0 to 192\n",
      "Data columns (total 6 columns):\n",
      " #   Column                        Non-Null Count  Dtype  \n",
      "---  ------                        --------------  -----  \n",
      " 0   country                       193 non-null    object \n",
      " 1   beer_servings                 193 non-null    int64  \n",
      " 2   spirit_servings               193 non-null    int64  \n",
      " 3   wine_servings                 193 non-null    int64  \n",
      " 4   total_litres_of_pure_alcohol  193 non-null    float64\n",
      " 5   continent                     170 non-null    object \n",
      "dtypes: float64(1), int64(3), object(2)\n",
      "memory usage: 9.2+ KB\n"
     ]
    }
   ],
   "source": [
    "data.info()"
   ]
  },
  {
   "cell_type": "code",
   "execution_count": 5,
   "id": "80b3bd0a",
   "metadata": {},
   "outputs": [
    {
     "data": {
      "text/plain": [
       "Index(['country', 'beer_servings', 'spirit_servings', 'wine_servings',\n",
       "       'total_litres_of_pure_alcohol', 'continent'],\n",
       "      dtype='object')"
      ]
     },
     "execution_count": 5,
     "metadata": {},
     "output_type": "execute_result"
    }
   ],
   "source": [
    "data.columns"
   ]
  },
  {
   "cell_type": "code",
   "execution_count": 7,
   "id": "fa1a9630",
   "metadata": {},
   "outputs": [],
   "source": [
    "#The continent null values replaced by North America\n",
    "data['continent'] = data['continent'].fillna(\"NA\")"
   ]
  },
  {
   "cell_type": "code",
   "execution_count": 8,
   "id": "893c93a3",
   "metadata": {},
   "outputs": [
    {
     "name": "stdout",
     "output_type": "stream",
     "text": [
      "<class 'pandas.core.frame.DataFrame'>\n",
      "RangeIndex: 193 entries, 0 to 192\n",
      "Data columns (total 6 columns):\n",
      " #   Column                        Non-Null Count  Dtype  \n",
      "---  ------                        --------------  -----  \n",
      " 0   country                       193 non-null    object \n",
      " 1   beer_servings                 193 non-null    int64  \n",
      " 2   spirit_servings               193 non-null    int64  \n",
      " 3   wine_servings                 193 non-null    int64  \n",
      " 4   total_litres_of_pure_alcohol  193 non-null    float64\n",
      " 5   continent                     193 non-null    object \n",
      "dtypes: float64(1), int64(3), object(2)\n",
      "memory usage: 9.2+ KB\n"
     ]
    }
   ],
   "source": [
    "data.info()"
   ]
  },
  {
   "cell_type": "markdown",
   "id": "aba8d1ba",
   "metadata": {},
   "source": [
    "### 1. Which continent drinks more beer on average?"
   ]
  },
  {
   "cell_type": "code",
   "execution_count": 9,
   "id": "4b8067dc",
   "metadata": {},
   "outputs": [
    {
     "name": "stdout",
     "output_type": "stream",
     "text": [
      "The continent that drinks more beer on average is: EU\n"
     ]
    }
   ],
   "source": [
    "# Group by continent and calculate the average beer servings\n",
    "average_beer_by_continent = data.groupby('continent')['beer_servings'].mean()\n",
    "\n",
    "# Find the continent that drinks more beer on average\n",
    "continent_with_most_beer = average_beer_by_continent.idxmax()\n",
    "\n",
    "# Print the result\n",
    "print(f\"The continent that drinks more beer on average is: {continent_with_most_beer}\")"
   ]
  },
  {
   "cell_type": "markdown",
   "id": "a72383f5",
   "metadata": {},
   "source": [
    "### 2. For each continent print the statistics for wine consumption"
   ]
  },
  {
   "cell_type": "code",
   "execution_count": 10,
   "id": "6fba7ca2",
   "metadata": {},
   "outputs": [
    {
     "name": "stdout",
     "output_type": "stream",
     "text": [
      "           count        mean        std  min   25%    50%     75%    max\n",
      "continent                                                               \n",
      "AF          53.0   16.264151  38.846419  0.0   1.0    2.0   13.00  233.0\n",
      "AS          44.0    9.068182  21.667034  0.0   0.0    1.0    8.00  123.0\n",
      "EU          45.0  142.222222  97.421738  0.0  59.0  128.0  195.00  370.0\n",
      "NA          23.0   24.521739  28.266378  1.0   5.0   11.0   34.00  100.0\n",
      "OC          16.0   35.625000  64.555790  0.0   1.0    8.5   23.25  212.0\n",
      "SA          12.0   62.416667  88.620189  1.0   3.0   12.0   98.50  221.0\n"
     ]
    }
   ],
   "source": [
    "# Group by continent and print statistics for wine consumption\n",
    "wine_statistics_by_continent = data.groupby('continent')['wine_servings'].describe()\n",
    "\n",
    "# Print the result\n",
    "print(wine_statistics_by_continent)"
   ]
  },
  {
   "cell_type": "markdown",
   "id": "83903351",
   "metadata": {},
   "source": [
    "### 3. Print the mean alcohol consumption per continent for every column."
   ]
  },
  {
   "cell_type": "code",
   "execution_count": 11,
   "id": "63338f75",
   "metadata": {},
   "outputs": [
    {
     "name": "stdout",
     "output_type": "stream",
     "text": [
      "           beer_servings  spirit_servings  wine_servings  \\\n",
      "continent                                                  \n",
      "AF             61.471698        16.339623      16.264151   \n",
      "AS             37.045455        60.840909       9.068182   \n",
      "EU            193.777778       132.555556     142.222222   \n",
      "NA            145.434783       165.739130      24.521739   \n",
      "OC             89.687500        58.437500      35.625000   \n",
      "SA            175.083333       114.750000      62.416667   \n",
      "\n",
      "           total_litres_of_pure_alcohol  \n",
      "continent                                \n",
      "AF                             3.007547  \n",
      "AS                             2.170455  \n",
      "EU                             8.617778  \n",
      "NA                             5.995652  \n",
      "OC                             3.381250  \n",
      "SA                             6.308333  \n"
     ]
    },
    {
     "name": "stderr",
     "output_type": "stream",
     "text": [
      "C:\\Users\\shahz\\AppData\\Local\\Temp\\ipykernel_10384\\2435786100.py:2: FutureWarning: The default value of numeric_only in DataFrameGroupBy.mean is deprecated. In a future version, numeric_only will default to False. Either specify numeric_only or select only columns which should be valid for the function.\n",
      "  mean_alcohol_consumption_by_continent = data.groupby('continent').mean()\n"
     ]
    }
   ],
   "source": [
    "# Group by continent and calculate the mean for each column\n",
    "mean_alcohol_consumption_by_continent = data.groupby('continent').mean()\n",
    "\n",
    "# Print the result\n",
    "print(mean_alcohol_consumption_by_continent)"
   ]
  },
  {
   "cell_type": "markdown",
   "id": "f782e295",
   "metadata": {},
   "source": [
    "### 4. Print the median alcohol consumption per continent for every column."
   ]
  },
  {
   "cell_type": "code",
   "execution_count": 12,
   "id": "34f6ba7a",
   "metadata": {},
   "outputs": [
    {
     "name": "stdout",
     "output_type": "stream",
     "text": [
      "           beer_servings  spirit_servings  wine_servings  \\\n",
      "continent                                                  \n",
      "AF                  32.0              3.0            2.0   \n",
      "AS                  17.5             16.0            1.0   \n",
      "EU                 219.0            122.0          128.0   \n",
      "NA                 143.0            137.0           11.0   \n",
      "OC                  52.5             37.0            8.5   \n",
      "SA                 162.5            108.5           12.0   \n",
      "\n",
      "           total_litres_of_pure_alcohol  \n",
      "continent                                \n",
      "AF                                 2.30  \n",
      "AS                                 1.20  \n",
      "EU                                10.00  \n",
      "NA                                 6.30  \n",
      "OC                                 1.75  \n",
      "SA                                 6.85  \n"
     ]
    },
    {
     "name": "stderr",
     "output_type": "stream",
     "text": [
      "C:\\Users\\shahz\\AppData\\Local\\Temp\\ipykernel_10384\\1466921860.py:2: FutureWarning: The default value of numeric_only in DataFrameGroupBy.median is deprecated. In a future version, numeric_only will default to False. Either specify numeric_only or select only columns which should be valid for the function.\n",
      "  median_alcohol_consumption_by_continent = data.groupby('continent').median()\n"
     ]
    }
   ],
   "source": [
    "# Group by continent and calculate the median for each column\n",
    "median_alcohol_consumption_by_continent = data.groupby('continent').median()\n",
    "\n",
    "# Print the result\n",
    "print(median_alcohol_consumption_by_continent)"
   ]
  }
 ],
 "metadata": {
  "kernelspec": {
   "display_name": "Python 3 (ipykernel)",
   "language": "python",
   "name": "python3"
  },
  "language_info": {
   "codemirror_mode": {
    "name": "ipython",
    "version": 3
   },
   "file_extension": ".py",
   "mimetype": "text/x-python",
   "name": "python",
   "nbconvert_exporter": "python",
   "pygments_lexer": "ipython3",
   "version": "3.11.4"
  }
 },
 "nbformat": 4,
 "nbformat_minor": 5
}
